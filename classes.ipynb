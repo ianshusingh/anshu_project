{
 "cells": [
  {
   "cell_type": "code",
   "execution_count": 1,
   "metadata": {},
   "outputs": [
    {
     "name": "stdout",
     "output_type": "stream",
     "text": [
      "<class 'str'>\n"
     ]
    }
   ],
   "source": [
    "x=\"hello\"\n",
    "print(type(x))"
   ]
  },
  {
   "cell_type": "code",
   "execution_count": 2,
   "metadata": {},
   "outputs": [],
   "source": [
    "class Dog:\n",
    "    def bark(self):\n",
    "        print(\"woof\")\n",
    "    def bite(self,item):\n",
    "        print(f\"biting {item}\")\n",
    "    def __init__(self,age,breed,gender):\n",
    "        self.age=age\n",
    "        self.breed=breed\n",
    "        self.gender=gender"
   ]
  },
  {
   "cell_type": "code",
   "execution_count": 3,
   "metadata": {},
   "outputs": [
    {
     "name": "stdout",
     "output_type": "stream",
     "text": [
      "woof\n",
      "biting shoe\n",
      "biting fish\n",
      "woof\n",
      "woof\n"
     ]
    }
   ],
   "source": [
    "tiger=Dog(3,'Siberian Husky','Male')\n",
    "ric=Dog(4,'Labrador','Male')\n",
    "\n",
    "tiger.bark()\n",
    "ric.bite('shoe')\n",
    "tiger.bite('fish')\n",
    "ric.bark()\n",
    "ric.bark()"
   ]
  },
  {
   "cell_type": "code",
   "execution_count": 4,
   "metadata": {},
   "outputs": [
    {
     "name": "stdout",
     "output_type": "stream",
     "text": [
      "[1, 2, 3, 4]\n",
      "[5, 6, 7, 8]\n"
     ]
    }
   ],
   "source": [
    "x=[1,2,3,4]\n",
    "y=[5,6,7,8]\n",
    "print(x)\n",
    "print(y)"
   ]
  },
  {
   "cell_type": "code",
   "execution_count": 5,
   "metadata": {},
   "outputs": [],
   "source": [
    "class super_list(list):\n",
    "    def sum(self):\n",
    "        return sum(self)\n",
    "    \n",
    "    def mean(self):\n",
    "        return sum(self)/len(self)\n",
    "    \n",
    "    def size(self):\n",
    "        return len(self)"
   ]
  },
  {
   "cell_type": "code",
   "execution_count": 7,
   "metadata": {},
   "outputs": [
    {
     "name": "stdout",
     "output_type": "stream",
     "text": [
      "2.5\n",
      "6.5\n",
      "10\n",
      "26\n",
      "4\n",
      "4\n",
      "40\n",
      "6\n",
      "6.666666666666667\n"
     ]
    }
   ],
   "source": [
    "x=super_list([1,2,3,4])\n",
    "y=super_list([5,6,7,8])\n",
    "print(x.mean())\n",
    "print(y.mean())\n",
    "print(x.sum())\n",
    "print(y.sum())\n",
    "print(x.size())\n",
    "print(y.size())\n",
    "x.append(10)\n",
    "x.append(20)\n",
    "print(x.sum())\n",
    "print(x.size())\n",
    "print(x.mean())"
   ]
  },
  {
   "cell_type": "code",
   "execution_count": 8,
   "metadata": {},
   "outputs": [],
   "source": [
    "from dataclasses import dataclass\n",
    "\n",
    "@dataclass\n",
    "class ProductV2:\n",
    "    id:int\n",
    "    name:str\n",
    "    price:float\n",
    "    brand:str\n",
    "    category:str\n",
    "    description:str\n",
    "    stock:int\n",
    "    rating:float"
   ]
  },
  {
   "cell_type": "code",
   "execution_count": 9,
   "metadata": {},
   "outputs": [
    {
     "data": {
      "text/plain": [
       "ProductV2(id=1, name='iphone', price=100000, brand='Apple', category='Electronics', description='iphone12', stock=100000, rating=4.5)"
      ]
     },
     "execution_count": 9,
     "metadata": {},
     "output_type": "execute_result"
    }
   ],
   "source": [
    "p2=ProductV2(1,'iphone',100000,'Apple','Electronics','iphone12',100000,4.5)\n",
    "p2"
   ]
  },
  {
   "cell_type": "code",
   "execution_count": null,
   "metadata": {},
   "outputs": [],
   "source": []
  }
 ],
 "metadata": {
  "kernelspec": {
   "display_name": "base",
   "language": "python",
   "name": "python3"
  },
  "language_info": {
   "codemirror_mode": {
    "name": "ipython",
    "version": 3
   },
   "file_extension": ".py",
   "mimetype": "text/x-python",
   "name": "python",
   "nbconvert_exporter": "python",
   "pygments_lexer": "ipython3",
   "version": "3.10.8"
  },
  "orig_nbformat": 4
 },
 "nbformat": 4,
 "nbformat_minor": 2
}
