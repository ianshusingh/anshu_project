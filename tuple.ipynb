{
 "cells": [
  {
   "attachments": {},
   "cell_type": "markdown",
   "metadata": {},
   "source": [
    "tuple properties\n",
    "- ordered (Sequence)\n",
    "- indexed\n",
    "- immutable (changeable)\n",
    "- duplicate values are allowed\n",
    "- hetrogeneous (diff. types of data)\n",
    "- tuple is denoted by '()'\n",
    "- an iterable can be converted to using 'tuple()' function"
   ]
  },
  {
   "cell_type": "code",
   "execution_count": 1,
   "metadata": {},
   "outputs": [
    {
     "name": "stdout",
     "output_type": "stream",
     "text": [
      "(1, 2, 3, 4)\n"
     ]
    }
   ],
   "source": [
    "x=(1,2,3,4) # a simple tuple\n",
    "print(x)"
   ]
  },
  {
   "cell_type": "code",
   "execution_count": 2,
   "metadata": {},
   "outputs": [],
   "source": [
    "y=12,56,23,45 # tuple packing"
   ]
  },
  {
   "cell_type": "code",
   "execution_count": 7,
   "metadata": {},
   "outputs": [
    {
     "name": "stdout",
     "output_type": "stream",
     "text": [
      "12 24 36\n",
      "12 [24, 36]\n"
     ]
    },
    {
     "ename": "TypeError",
     "evalue": "'list' object is not callable",
     "output_type": "error",
     "traceback": [
      "\u001b[1;31m---------------------------------------------------------------------------\u001b[0m",
      "\u001b[1;31mTypeError\u001b[0m                                 Traceback (most recent call last)",
      "Cell \u001b[1;32mIn[7], line 5\u001b[0m\n\u001b[0;32m      3\u001b[0m a,\u001b[39m*\u001b[39mb\u001b[39m=\u001b[39m(\u001b[39m12\u001b[39m,\u001b[39m24\u001b[39m,\u001b[39m36\u001b[39m)\n\u001b[0;32m      4\u001b[0m \u001b[39mprint\u001b[39m(a,b)\n\u001b[1;32m----> 5\u001b[0m a,b(\u001b[39m1\u001b[39;49m,\u001b[39m2\u001b[39;49m,\u001b[39m3\u001b[39;49m) \u001b[39m# too many values to unpack error\u001b[39;00m\n",
      "\u001b[1;31mTypeError\u001b[0m: 'list' object is not callable"
     ]
    }
   ],
   "source": [
    "a,b,c=(12,24,36) # tuple unpacking\n",
    "print(a,b,c)\n",
    "a,*b=(12,24,36)\n",
    "print(a,b)\n",
    "a,b(1,2,3) # too many values to unpack error"
   ]
  },
  {
   "cell_type": "code",
   "execution_count": 9,
   "metadata": {},
   "outputs": [
    {
     "name": "stdout",
     "output_type": "stream",
     "text": [
      "(1, 2, 3, 4)\n",
      "('A', 'n', 's', 'h', 'u')\n"
     ]
    }
   ],
   "source": [
    "x=[1,2,3,4] # simple list\n",
    "xt=tuple(x) # converted list to tuple\n",
    "z='Anshu'\n",
    "zt=tuple(z) # converted string to tuple\n",
    "print(xt,zt,sep='\\n')"
   ]
  },
  {
   "cell_type": "code",
   "execution_count": 12,
   "metadata": {},
   "outputs": [
    {
     "name": "stdout",
     "output_type": "stream",
     "text": [
      "4\n"
     ]
    }
   ],
   "source": [
    "y=(1,2,3,4,5,6,7,8,9,1,2,3,45,6,47,89,3,25,3,256,65,8,4,1,61,54,6,1,5,5,5,231)\n",
    "print(y.count(1))"
   ]
  },
  {
   "cell_type": "code",
   "execution_count": null,
   "metadata": {},
   "outputs": [],
   "source": []
  }
 ],
 "metadata": {
  "kernelspec": {
   "display_name": "base",
   "language": "python",
   "name": "python3"
  },
  "language_info": {
   "codemirror_mode": {
    "name": "ipython",
    "version": 3
   },
   "file_extension": ".py",
   "mimetype": "text/x-python",
   "name": "python",
   "nbconvert_exporter": "python",
   "pygments_lexer": "ipython3",
   "version": "3.10.8"
  },
  "orig_nbformat": 4,
  "vscode": {
   "interpreter": {
    "hash": "4da1da0b9582ab68723c14ece5789b9cae36a61db34137586d7484a63a45bb0a"
   }
  }
 },
 "nbformat": 4,
 "nbformat_minor": 2
}
