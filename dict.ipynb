{
 "cells": [
  {
   "attachments": {},
   "cell_type": "markdown",
   "metadata": {},
   "source": [
    "### dictionary properties\n",
    "\n",
    "- ordered (Sequence)\n",
    "- unindexed\n",
    "- mutable (changeable)\n",
    "- duplicate values are allowed\n",
    "- keys: value pairs\n",
    "- keys are immutable(cannot be change)\n",
    "- hetrogeneous (diff. types of data)\n",
    "- dict. is denoted by '{ }'\n",
    "- a list of tuple can be converted to using 'dict()' function"
   ]
  },
  {
   "attachments": {},
   "cell_type": "markdown",
   "metadata": {},
   "source": [
    "### What you need to lern\n",
    "- create dictionary\n",
    "- methods"
   ]
  },
  {
   "cell_type": "code",
   "execution_count": 2,
   "metadata": {},
   "outputs": [],
   "source": [
    "series={\n",
    "    'title':'The legend of Hanuman',\n",
    "    'total seasons':2,\n",
    "    'genre':\"Action\",\n",
    "    'availabe on':\"Disney+Hotstar\"\n",
    "}"
   ]
  },
  {
   "cell_type": "code",
   "execution_count": 3,
   "metadata": {},
   "outputs": [],
   "source": [
    "series2={} # empty dictionary"
   ]
  },
  {
   "cell_type": "code",
   "execution_count": 4,
   "metadata": {},
   "outputs": [],
   "source": [
    "series2['title']=\"gulak\""
   ]
  },
  {
   "cell_type": "code",
   "execution_count": 5,
   "metadata": {},
   "outputs": [
    {
     "data": {
      "text/plain": [
       "{'title': 'gulak'}"
      ]
     },
     "execution_count": 5,
     "metadata": {},
     "output_type": "execute_result"
    }
   ],
   "source": [
    "series2"
   ]
  },
  {
   "cell_type": "code",
   "execution_count": 6,
   "metadata": {},
   "outputs": [],
   "source": [
    "series2['season']=6\n",
    "series2['episode']=15"
   ]
  },
  {
   "cell_type": "code",
   "execution_count": 7,
   "metadata": {},
   "outputs": [
    {
     "data": {
      "text/plain": [
       "{'title': 'gulak', 'season': 6, 'episode': 15}"
      ]
     },
     "execution_count": 7,
     "metadata": {},
     "output_type": "execute_result"
    }
   ],
   "source": [
    "series2"
   ]
  },
  {
   "attachments": {},
   "cell_type": "markdown",
   "metadata": {},
   "source": [
    "### Nested dictionary"
   ]
  },
  {
   "cell_type": "code",
   "execution_count": 8,
   "metadata": {},
   "outputs": [],
   "source": [
    "books={\n",
    "    'book1':{\n",
    "        'title':\"the alloy of law\",\n",
    "        'author':'Brandon Sanderson',\n",
    "        'summary':'Western meets steampunk in this new mistborn series'\n",
    "    },\n",
    "    'book2':{\n",
    "        'title':'brands of mourning',\n",
    "        'author':'brandon saderson',\n",
    "        'summary':'the third of the mistborn series era 2'\n",
    "    },\n",
    "    'book3':{\n",
    "        'title':\"The lost metal\",\n",
    "        'author':'Brandon Sanderson',\n",
    "        'summary':'the fourth of the mistborn series era 2'\n",
    "    }\n",
    "}"
   ]
  },
  {
   "cell_type": "code",
   "execution_count": 12,
   "metadata": {},
   "outputs": [
    {
     "data": {
      "text/plain": [
       "{'title': 'the alloy of law',\n",
       " 'author': 'Brandon Sanderson',\n",
       " 'summary': 'Western meets steampunk in this new mistborn series'}"
      ]
     },
     "execution_count": 12,
     "metadata": {},
     "output_type": "execute_result"
    }
   ],
   "source": [
    "books['book1']"
   ]
  },
  {
   "cell_type": "code",
   "execution_count": 13,
   "metadata": {},
   "outputs": [
    {
     "data": {
      "text/plain": [
       "'the alloy of law'"
      ]
     },
     "execution_count": 13,
     "metadata": {},
     "output_type": "execute_result"
    }
   ],
   "source": [
    "books['book1']['title']"
   ]
  },
  {
   "cell_type": "code",
   "execution_count": 15,
   "metadata": {},
   "outputs": [
    {
     "name": "stdout",
     "output_type": "stream",
     "text": [
      "title The legend of Hanuman\n",
      "total seasons 2\n",
      "genre Action\n",
      "availabe on Disney+Hotstar\n"
     ]
    }
   ],
   "source": [
    "for i in series:\n",
    "    print(i, series[i])"
   ]
  },
  {
   "cell_type": "code",
   "execution_count": 16,
   "metadata": {},
   "outputs": [
    {
     "name": "stdout",
     "output_type": "stream",
     "text": [
      "title The legend of Hanuman\n",
      "total seasons 2\n",
      "genre Action\n",
      "availabe on Disney+Hotstar\n"
     ]
    }
   ],
   "source": [
    "for k, v in series.items():\n",
    "    print(k, v)"
   ]
  },
  {
   "cell_type": "code",
   "execution_count": 20,
   "metadata": {},
   "outputs": [
    {
     "name": "stdout",
     "output_type": "stream",
     "text": [
      "book1 title the alloy of law\n",
      "book1 author Brandon Sanderson\n",
      "book1 summary Western meets steampunk in this new mistborn series\n",
      "book2 title brands of mourning\n",
      "book2 author brandon saderson\n",
      "book2 summary the third of the mistborn series era 2\n",
      "book3 title The lost metal\n",
      "book3 author Brandon Sanderson\n",
      "book3 summary the fourth of the mistborn series era 2\n"
     ]
    }
   ],
   "source": [
    "for k,v in books.items():\n",
    "    for k1,v1 in v.items():\n",
    "        print(k,k1,v1)"
   ]
  },
  {
   "cell_type": "code",
   "execution_count": 21,
   "metadata": {},
   "outputs": [
    {
     "data": {
      "text/plain": [
       "['title', 'total seasons', 'genre', 'availabe on']"
      ]
     },
     "execution_count": 21,
     "metadata": {},
     "output_type": "execute_result"
    }
   ],
   "source": [
    "list(series.keys())"
   ]
  },
  {
   "cell_type": "code",
   "execution_count": 23,
   "metadata": {},
   "outputs": [
    {
     "data": {
      "text/plain": [
       "['The legend of Hanuman', 2, 'Action', 'Disney+Hotstar']"
      ]
     },
     "execution_count": 23,
     "metadata": {},
     "output_type": "execute_result"
    }
   ],
   "source": [
    "list(series.values())"
   ]
  },
  {
   "cell_type": "code",
   "execution_count": 22,
   "metadata": {},
   "outputs": [
    {
     "data": {
      "text/plain": [
       "dict_items([('title', 'gulak'), ('season', 6), ('episode', 15)])"
      ]
     },
     "execution_count": 22,
     "metadata": {},
     "output_type": "execute_result"
    }
   ],
   "source": [
    "series2.items()"
   ]
  },
  {
   "cell_type": "code",
   "execution_count": 24,
   "metadata": {},
   "outputs": [
    {
     "data": {
      "text/plain": [
       "{'title': 'the alloy of law',\n",
       " 'author': 'Brandon Sanderson',\n",
       " 'summary': 'Western meets steampunk in this new mistborn series'}"
      ]
     },
     "execution_count": 24,
     "metadata": {},
     "output_type": "execute_result"
    }
   ],
   "source": [
    "books.pop('book1')"
   ]
  },
  {
   "cell_type": "code",
   "execution_count": 25,
   "metadata": {},
   "outputs": [
    {
     "data": {
      "text/plain": [
       "{'book2': {'title': 'brands of mourning',\n",
       "  'author': 'brandon saderson',\n",
       "  'summary': 'the third of the mistborn series era 2'},\n",
       " 'book3': {'title': 'The lost metal',\n",
       "  'author': 'Brandon Sanderson',\n",
       "  'summary': 'the fourth of the mistborn series era 2'},\n",
       " 'series': {'title': 'The legend of Hanuman',\n",
       "  'total seasons': 2,\n",
       "  'genre': 'Action',\n",
       "  'availabe on': 'Disney+Hotstar'},\n",
       " 'series2': {'title': 'gulak', 'season': 6, 'episode': 15}}"
      ]
     },
     "execution_count": 25,
     "metadata": {},
     "output_type": "execute_result"
    }
   ],
   "source": [
    "books.update({'series':series,'series2':series2})\n",
    "\n",
    "books"
   ]
  },
  {
   "cell_type": "code",
   "execution_count": 27,
   "metadata": {},
   "outputs": [
    {
     "name": "stdout",
     "output_type": "stream",
     "text": [
      "{'name': 'anshu', 'phone': '7860******'}\n"
     ]
    }
   ],
   "source": [
    "contacts={}\n",
    "nm=input('Enter name: ')\n",
    "ph=input('Enter phone number: ')\n",
    "contacts['name']=nm\n",
    "contacts['phone']=ph\n",
    "print(contacts)"
   ]
  },
  {
   "cell_type": "code",
   "execution_count": null,
   "metadata": {},
   "outputs": [],
   "source": []
  }
 ],
 "metadata": {
  "kernelspec": {
   "display_name": "base",
   "language": "python",
   "name": "python3"
  },
  "language_info": {
   "codemirror_mode": {
    "name": "ipython",
    "version": 3
   },
   "file_extension": ".py",
   "mimetype": "text/x-python",
   "name": "python",
   "nbconvert_exporter": "python",
   "pygments_lexer": "ipython3",
   "version": "3.10.8"
  },
  "orig_nbformat": 4,
  "vscode": {
   "interpreter": {
    "hash": "4da1da0b9582ab68723c14ece5789b9cae36a61db34137586d7484a63a45bb0a"
   }
  }
 },
 "nbformat": 4,
 "nbformat_minor": 2
}
