{
 "cells": [
  {
   "cell_type": "code",
   "execution_count": 1,
   "metadata": {},
   "outputs": [
    {
     "data": {
      "text/plain": [
       "23"
      ]
     },
     "execution_count": 1,
     "metadata": {},
     "output_type": "execute_result"
    }
   ],
   "source": [
    "name='vijay deenanath chauhan'\n",
    "len(name)"
   ]
  },
  {
   "cell_type": "code",
   "execution_count": 2,
   "metadata": {},
   "outputs": [
    {
     "name": "stdout",
     "output_type": "stream",
     "text": [
      "bahut saari lines\n",
      "agar likhi h to aap\n",
      "aese likh sakte h 55\n"
     ]
    }
   ],
   "source": [
    "msg='''bahut saari lines\n",
    "agar likhi h to aap\n",
    "aese likh sakte h'''\n",
    "print(msg, len(msg))"
   ]
  },
  {
   "attachments": {},
   "cell_type": "markdown",
   "metadata": {},
   "source": [
    "Python indexing\n",
    "- +ve\n",
    "- -ve"
   ]
  },
  {
   "cell_type": "code",
   "execution_count": 3,
   "metadata": {},
   "outputs": [
    {
     "name": "stdout",
     "output_type": "stream",
     "text": [
      "b\n",
      "h\n",
      "a\n"
     ]
    }
   ],
   "source": [
    "print(msg[0])\n",
    "print(msg[-1])\n",
    "print(msg[7])"
   ]
  },
  {
   "cell_type": "code",
   "execution_count": 4,
   "metadata": {},
   "outputs": [
    {
     "name": "stdout",
     "output_type": "stream",
     "text": [
      "v a y\n"
     ]
    }
   ],
   "source": [
    "print(name[0], name[3], name[4])"
   ]
  },
  {
   "attachments": {},
   "cell_type": "markdown",
   "metadata": {},
   "source": [
    "Slicing\n",
    "- x[startidx: endidx: step]\n",
    "\n",
    "examples\n",
    "- x[5 : 15]-> 5th to 14th index data\n",
    "- x[ : 10]-> begin from 0 index to 9th index data\n",
    "- x[5 : ]-> 5th index to end of data"
   ]
  },
  {
   "cell_type": "code",
   "execution_count": 5,
   "metadata": {},
   "outputs": [
    {
     "data": {
      "text/plain": [
       "'vijay'"
      ]
     },
     "execution_count": 5,
     "metadata": {},
     "output_type": "execute_result"
    }
   ],
   "source": [
    "name[:5]"
   ]
  },
  {
   "cell_type": "code",
   "execution_count": 6,
   "metadata": {},
   "outputs": [
    {
     "data": {
      "text/plain": [
       "'deenanath'"
      ]
     },
     "execution_count": 6,
     "metadata": {},
     "output_type": "execute_result"
    }
   ],
   "source": [
    "name[6:-8]"
   ]
  },
  {
   "cell_type": "code",
   "execution_count": 7,
   "metadata": {},
   "outputs": [
    {
     "data": {
      "text/plain": [
       "'chauhan'"
      ]
     },
     "execution_count": 7,
     "metadata": {},
     "output_type": "execute_result"
    }
   ],
   "source": [
    "name[-7:]"
   ]
  },
  {
   "cell_type": "code",
   "execution_count": 8,
   "metadata": {},
   "outputs": [
    {
     "name": "stdout",
     "output_type": "stream",
     "text": [
      "Anshu\n",
      "Singh\n"
     ]
    }
   ],
   "source": [
    "name=\"Anshu Singh\"\n",
    "fname=name[:5]\n",
    "lname=name[6:]\n",
    "print(fname)\n",
    "print(lname)"
   ]
  },
  {
   "cell_type": "code",
   "execution_count": 9,
   "metadata": {},
   "outputs": [
    {
     "data": {
      "text/plain": [
       "'AsuSnh'"
      ]
     },
     "execution_count": 9,
     "metadata": {},
     "output_type": "execute_result"
    }
   ],
   "source": [
    "name[::2] # start se end tak with step 2"
   ]
  },
  {
   "cell_type": "code",
   "execution_count": 10,
   "metadata": {},
   "outputs": [
    {
     "data": {
      "text/plain": [
       "'hgniS uhsnA'"
      ]
     },
     "execution_count": 10,
     "metadata": {},
     "output_type": "execute_result"
    }
   ],
   "source": [
    "name[::-1] # reverse string"
   ]
  },
  {
   "cell_type": "code",
   "execution_count": 11,
   "metadata": {},
   "outputs": [
    {
     "data": {
      "text/plain": [
       "'cyclop'"
      ]
     },
     "execution_count": 11,
     "metadata": {},
     "output_type": "execute_result"
    }
   ],
   "source": [
    "x = 'Encyclopedia'\n",
    "x[2:-4]"
   ]
  },
  {
   "cell_type": "code",
   "execution_count": 12,
   "metadata": {},
   "outputs": [
    {
     "data": {
      "text/plain": [
       "'cycloped'"
      ]
     },
     "execution_count": 12,
     "metadata": {},
     "output_type": "execute_result"
    }
   ],
   "source": [
    "x[2:-2]"
   ]
  },
  {
   "cell_type": "code",
   "execution_count": 13,
   "metadata": {},
   "outputs": [
    {
     "data": {
      "text/plain": [
       "'Singh'"
      ]
     },
     "execution_count": 13,
     "metadata": {},
     "output_type": "execute_result"
    }
   ],
   "source": [
    "name[::-1][:5][::-1]"
   ]
  },
  {
   "attachments": {},
   "cell_type": "markdown",
   "metadata": {},
   "source": [
    "- ### String Methods\n",
    "    - formatting\n",
    "      - upper\n",
    "      - lower\n",
    "      - capitalize\n",
    "      - title\n",
    "      - center\n",
    "      - ljust\n",
    "      - rjist\n",
    "    - validation function\n",
    "      - isalnum\n",
    "      - isalpha\n",
    "      - islower\n",
    "      - isupper\n",
    "      - isnumeric\n",
    "      - istitle\n",
    "      - startswith\n",
    "      - endswith\n",
    "    - search method\n",
    "      - find\n",
    "      - index\n",
    "    - utility method\n",
    "      - replace\n",
    "      - split\n",
    "      - join\n",
    "      - strip   "
   ]
  },
  {
   "cell_type": "code",
   "execution_count": 14,
   "metadata": {},
   "outputs": [],
   "source": [
    "msg='Journey Before Destination'"
   ]
  },
  {
   "cell_type": "code",
   "execution_count": 15,
   "metadata": {},
   "outputs": [
    {
     "name": "stdout",
     "output_type": "stream",
     "text": [
      "JOURNEY BEFORE DESTINATION\n",
      "journey before destination\n",
      "Journey Before Destination\n",
      "Journey before destination\n",
      "jOURNEY bEFORE dESTINATION\n",
      "journey before destination\n"
     ]
    }
   ],
   "source": [
    "print(msg.upper())\n",
    "print(msg.lower())\n",
    "print(msg.title())\n",
    "print(msg.capitalize())\n",
    "print(msg.swapcase())\n",
    "print(msg.casefold())"
   ]
  },
  {
   "cell_type": "code",
   "execution_count": 17,
   "metadata": {},
   "outputs": [
    {
     "data": {
      "text/plain": [
       "False"
      ]
     },
     "execution_count": 17,
     "metadata": {},
     "output_type": "execute_result"
    }
   ],
   "source": [
    "msg.isalpha()"
   ]
  },
  {
   "cell_type": "code",
   "execution_count": 18,
   "metadata": {},
   "outputs": [
    {
     "data": {
      "text/plain": [
       "True"
      ]
     },
     "execution_count": 18,
     "metadata": {},
     "output_type": "execute_result"
    }
   ],
   "source": [
    "\"Oregano\".isalpha()"
   ]
  },
  {
   "cell_type": "code",
   "execution_count": 20,
   "metadata": {},
   "outputs": [
    {
     "ename": "AttributeError",
     "evalue": "'str' object has no attribute 'isaplha'",
     "output_type": "error",
     "traceback": [
      "\u001b[1;31m---------------------------------------------------------------------------\u001b[0m",
      "\u001b[1;31mAttributeError\u001b[0m                            Traceback (most recent call last)",
      "Cell \u001b[1;32mIn[20], line 2\u001b[0m\n\u001b[0;32m      1\u001b[0m fname\u001b[39m=\u001b[39m\u001b[39minput\u001b[39m(\u001b[39m\"\u001b[39m\u001b[39mEnter first name:\u001b[39m\u001b[39m\"\u001b[39m)\n\u001b[1;32m----> 2\u001b[0m \u001b[39mif\u001b[39;00m fname\u001b[39m.\u001b[39;49misaplha():\n\u001b[0;32m      3\u001b[0m     \u001b[39mprint\u001b[39m(\u001b[39m\"\u001b[39m\u001b[39mGood\u001b[39m\u001b[39m\"\u001b[39m)\n\u001b[0;32m      4\u001b[0m \u001b[39melse\u001b[39;00m:\n",
      "\u001b[1;31mAttributeError\u001b[0m: 'str' object has no attribute 'isaplha'"
     ]
    }
   ],
   "source": [
    "fname=input(\"Enter first name:\")\n",
    "if fname.isaplha():\n",
    "    print(\"Good\")\n",
    "else:\n",
    "    print(\"Stupid!\")"
   ]
  },
  {
   "cell_type": "code",
   "execution_count": 24,
   "metadata": {},
   "outputs": [
    {
     "data": {
      "text/plain": [
       "True"
      ]
     },
     "execution_count": 24,
     "metadata": {},
     "output_type": "execute_result"
    }
   ],
   "source": [
    "'123123'.isdigit()\n"
   ]
  },
  {
   "cell_type": "code",
   "execution_count": 25,
   "metadata": {},
   "outputs": [
    {
     "data": {
      "text/plain": [
       "True"
      ]
     },
     "execution_count": 25,
     "metadata": {},
     "output_type": "execute_result"
    }
   ],
   "source": [
    "'anshu2343'.isalnum()"
   ]
  },
  {
   "cell_type": "code",
   "execution_count": 26,
   "metadata": {},
   "outputs": [
    {
     "data": {
      "text/plain": [
       "True"
      ]
     },
     "execution_count": 26,
     "metadata": {},
     "output_type": "execute_result"
    }
   ],
   "source": [
    "n='Ms. shruti'\n",
    "n.startswith('Ms.')"
   ]
  },
  {
   "cell_type": "code",
   "execution_count": 27,
   "metadata": {},
   "outputs": [
    {
     "name": "stdout",
     "output_type": "stream",
     "text": [
      "Welcome sir\n",
      "Welcome Mam\n",
      "Welcome Doc.\n",
      "Welcome Doc.\n",
      "Welcome sir\n"
     ]
    }
   ],
   "source": [
    "guests=['Mr. Aman','Ms. verma','Dr. Vijay','Dr. Rani','Mr. Akash']\n",
    "for name in guests:\n",
    "    if name.startswith('Mr.'):\n",
    "        print(\"Welcome sir\")\n",
    "    elif name.startswith('Ms.'):\n",
    "        print(\"Welcome Mam\")\n",
    "    elif name.startswith('Dr.'):\n",
    "        print(\"Welcome Doc.\")\n",
    "    elif name.startswith('Er.'):\n",
    "        print(\"Not allowed\")\n",
    "    else:\n",
    "        print(\"Not invited\")"
   ]
  },
  {
   "cell_type": "code",
   "execution_count": 29,
   "metadata": {},
   "outputs": [
    {
     "name": "stdout",
     "output_type": "stream",
     "text": [
      "['app_one.py', 'basics.ipynb', 'calc.py', 'cir_area.py', 'condition.py', 'func.ipynb', 'func2.ipynb', 'hello.py', 'ifelse.py', 'loops.ipynb', 'nested condition.py', 'nested.py', 'si.py', 'string.ipynb', 't1.py']\n"
     ]
    }
   ],
   "source": [
    "import os\n",
    "\n",
    "files=os.listdir()\n",
    "print(files)"
   ]
  },
  {
   "cell_type": "code",
   "execution_count": 30,
   "metadata": {},
   "outputs": [
    {
     "name": "stdout",
     "output_type": "stream",
     "text": [
      "app_one.py is Python Script\n",
      "basics.ipynb is Jupyter notebook\n",
      "calc.py is Python Script\n",
      "cir_area.py is Python Script\n",
      "condition.py is Python Script\n",
      "func.ipynb is Jupyter notebook\n",
      "func2.ipynb is Jupyter notebook\n",
      "hello.py is Python Script\n",
      "ifelse.py is Python Script\n",
      "loops.ipynb is Jupyter notebook\n",
      "nested condition.py is Python Script\n",
      "nested.py is Python Script\n",
      "si.py is Python Script\n",
      "string.ipynb is Jupyter notebook\n",
      "t1.py is Python Script\n"
     ]
    }
   ],
   "source": [
    "for file in files:\n",
    "    if file.endswith('.py'):\n",
    "        print(f'{file} is Python Script')\n",
    "    elif file.endswith('.ipynb'):\n",
    "        print(f'{file} is Jupyter notebook')\n",
    "    elif file.endswith('.txt'):\n",
    "        print(f'{file} is Text File')\n",
    "    elif file.endswith('.md'):\n",
    "        print(f'{file} is Markdown file')\n",
    "    else:\n",
    "        print(f'{file} is Unknown file/Dir')"
   ]
  },
  {
   "cell_type": "code",
   "execution_count": null,
   "metadata": {},
   "outputs": [],
   "source": []
  }
 ],
 "metadata": {
  "kernelspec": {
   "display_name": "base",
   "language": "python",
   "name": "python3"
  },
  "language_info": {
   "codemirror_mode": {
    "name": "ipython",
    "version": 3
   },
   "file_extension": ".py",
   "mimetype": "text/x-python",
   "name": "python",
   "nbconvert_exporter": "python",
   "pygments_lexer": "ipython3",
   "version": "3.10.8"
  },
  "orig_nbformat": 4,
  "vscode": {
   "interpreter": {
    "hash": "4da1da0b9582ab68723c14ece5789b9cae36a61db34137586d7484a63a45bb0a"
   }
  }
 },
 "nbformat": 4,
 "nbformat_minor": 2
}
