{
 "cells": [
  {
   "attachments": {},
   "cell_type": "markdown",
   "metadata": {},
   "source": [
    "variable arguments (n number of args)"
   ]
  },
  {
   "cell_type": "code",
   "execution_count": 1,
   "metadata": {},
   "outputs": [],
   "source": [
    "def add(x,y,z,a,b,c,d,e,f):\n",
    "    return x+y+z+a+b+c+d+e+f"
   ]
  },
  {
   "cell_type": "code",
   "execution_count": 6,
   "metadata": {},
   "outputs": [
    {
     "data": {
      "text/plain": [
       "495"
      ]
     },
     "execution_count": 6,
     "metadata": {},
     "output_type": "execute_result"
    }
   ],
   "source": [
    "add(28,54,35,84,65,75,79,21,54)"
   ]
  },
  {
   "cell_type": "code",
   "execution_count": 9,
   "metadata": {},
   "outputs": [],
   "source": [
    "def mul(*args):\n",
    "    total=1\n",
    "    for i in args:\n",
    "        total*=i\n",
    "    return total"
   ]
  },
  {
   "cell_type": "code",
   "execution_count": 10,
   "metadata": {},
   "outputs": [
    {
     "data": {
      "text/plain": [
       "3084480"
      ]
     },
     "execution_count": 10,
     "metadata": {},
     "output_type": "execute_result"
    }
   ],
   "source": [
    "mul(21,45,51,64)"
   ]
  },
  {
   "cell_type": "code",
   "execution_count": 11,
   "metadata": {},
   "outputs": [
    {
     "name": "stdout",
     "output_type": "stream",
     "text": [
      "49.166666666666664\n"
     ]
    }
   ],
   "source": [
    "def average(*values):\n",
    "    return sum(values)/len(values)\n",
    "\n",
    "ans=average(12,23,54,84,87,35)\n",
    "print(ans)"
   ]
  },
  {
   "attachments": {},
   "cell_type": "markdown",
   "metadata": {},
   "source": [
    "**kwargs (variable keyword arguments)(n number of keyword args)"
   ]
  },
  {
   "cell_type": "code",
   "execution_count": 12,
   "metadata": {},
   "outputs": [],
   "source": [
    "def display_menu(**items):\n",
    "    if len(items)>0:\n",
    "        for i in items:\n",
    "            print(f'➡️{i:10} ${items[i]}')"
   ]
  },
  {
   "cell_type": "code",
   "execution_count": 13,
   "metadata": {},
   "outputs": [
    {
     "name": "stdout",
     "output_type": "stream",
     "text": [
      "➡️idli       $40\n",
      "➡️dosa       $100\n",
      "➡️vada       $30\n",
      "➡️upma       $20\n"
     ]
    }
   ],
   "source": [
    "display_menu(idli=40, dosa=100, vada=30, upma=20)"
   ]
  },
  {
   "cell_type": "code",
   "execution_count": 15,
   "metadata": {},
   "outputs": [
    {
     "name": "stdout",
     "output_type": "stream",
     "text": [
      "Dehati meat\n",
      "➡️chicken_biryani $110\n",
      "➡️Butter_chicken $250\n",
      "➡️Chicken_masala $200\n",
      "➡️Chicken_tikka $80\n"
     ]
    }
   ],
   "source": [
    "print('Dehati meat')\n",
    "display_menu(chicken_biryani=110, Butter_chicken=250, Chicken_masala=200, Chicken_tikka=80)"
   ]
  },
  {
   "attachments": {},
   "cell_type": "markdown",
   "metadata": {},
   "source": [
    "### anoymous function\n",
    "- lambda expression\n",
    "- map\n",
    "- filter\n",
    "\n",
    "f(x)=x+3*3\n",
    "\n",
    "g(x,y)=(x+y)*(x-y)\n"
   ]
  },
  {
   "cell_type": "code",
   "execution_count": 19,
   "metadata": {},
   "outputs": [
    {
     "name": "stdout",
     "output_type": "stream",
     "text": [
      "297\n",
      "869\n",
      "708\n",
      "-308\n"
     ]
    }
   ],
   "source": [
    "xlist=[21,45,62,76]\n",
    "ylist=[12,34,56,78]\n",
    "\n",
    "def eq(x,y):\n",
    "    return (x+y)*(x-y)\n",
    "\n",
    "for i,j in zip(xlist, ylist):\n",
    "    print(eq(i,j))"
   ]
  },
  {
   "cell_type": "code",
   "execution_count": 22,
   "metadata": {},
   "outputs": [
    {
     "data": {
      "text/plain": [
       "-819.8888888888889"
      ]
     },
     "execution_count": 22,
     "metadata": {},
     "output_type": "execute_result"
    }
   ],
   "source": [
    "f = lambda x : x + 10 / x - 10 * x - 10\n",
    "f(90)"
   ]
  },
  {
   "cell_type": "code",
   "execution_count": 23,
   "metadata": {},
   "outputs": [
    {
     "data": {
      "text/plain": [
       "[297, 869, 708, -308]"
      ]
     },
     "execution_count": 23,
     "metadata": {},
     "output_type": "execute_result"
    }
   ],
   "source": [
    "list(map(lambda x,y:(x+y)*(x-y),xlist,ylist))"
   ]
  },
  {
   "cell_type": "code",
   "execution_count": 24,
   "metadata": {},
   "outputs": [],
   "source": [
    "# initial\n",
    "names = ['ayush tiwari','shruti mishra','adarsh singh','srishti trivedi','sneha singh','shubham verma','shikhar awasthi']"
   ]
  },
  {
   "cell_type": "code",
   "execution_count": 25,
   "metadata": {},
   "outputs": [
    {
     "name": "stdout",
     "output_type": "stream",
     "text": [
      "ayush tiwari at\n",
      "shruti mishra sm\n",
      "adarsh singh as\n",
      "srishti trivedi st\n",
      "sneha singh ss\n",
      "shubham verma sv\n",
      "shikhar awasthi sa\n"
     ]
    }
   ],
   "source": [
    "def get_initials(names):\n",
    "    return names.split()[0][0]+names.split()[1][0]\n",
    "for name in names:\n",
    "    print(name, get_initials(name))"
   ]
  },
  {
   "cell_type": "code",
   "execution_count": 29,
   "metadata": {},
   "outputs": [
    {
     "data": {
      "text/plain": [
       "['at', 'sm', 'as', 'st', 'ss', 'sv', 'sa']"
      ]
     },
     "execution_count": 29,
     "metadata": {},
     "output_type": "execute_result"
    }
   ],
   "source": [
    "list(map(lambda n:n.split()[0][0]+n.split()[1][0],names))"
   ]
  }
 ],
 "metadata": {
  "kernelspec": {
   "display_name": "base",
   "language": "python",
   "name": "python3"
  },
  "language_info": {
   "codemirror_mode": {
    "name": "ipython",
    "version": 3
   },
   "file_extension": ".py",
   "mimetype": "text/x-python",
   "name": "python",
   "nbconvert_exporter": "python",
   "pygments_lexer": "ipython3",
   "version": "3.10.8"
  },
  "orig_nbformat": 4,
  "vscode": {
   "interpreter": {
    "hash": "4da1da0b9582ab68723c14ece5789b9cae36a61db34137586d7484a63a45bb0a"
   }
  }
 },
 "nbformat": 4,
 "nbformat_minor": 2
}
