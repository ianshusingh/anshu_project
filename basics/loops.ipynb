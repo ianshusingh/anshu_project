{
 "cells": [
  {
   "attachments": {},
   "cell_type": "markdown",
   "metadata": {},
   "source": [
    "- iterables(anything that can be used in loop)\n",
    "- for loop\n",
    "    - step base loop\n",
    "    - special iterables\n",
    "        -range()\n",
    "        -enumerate\n",
    "        -zip\n",
    "    - for - else\n",
    "- while loop\n",
    "    - condition base loop\n",
    "    - while else\n",
    "iterables"
   ]
  },
  {
   "cell_type": "code",
   "execution_count": 1,
   "metadata": {},
   "outputs": [
    {
     "name": "stdout",
     "output_type": "stream",
     "text": [
      "12\n",
      "52\n",
      "15\n",
      "34\n",
      "25\n"
     ]
    }
   ],
   "source": [
    "x=[12,52,15,34,25]\n",
    "for i in x:\n",
    "    print(i)"
   ]
  },
  {
   "cell_type": "code",
   "execution_count": 3,
   "metadata": {},
   "outputs": [
    {
     "name": "stdout",
     "output_type": "stream",
     "text": [
      "have you seen lion?\n",
      "have you seen tiger?\n",
      "have you seen elephant?\n"
     ]
    }
   ],
   "source": [
    "animals=['lion','tiger','elephant']\n",
    "for animal in animals:\n",
    "    print(f'have you seen {animal}?')"
   ]
  },
  {
   "cell_type": "code",
   "execution_count": 4,
   "metadata": {},
   "outputs": [
    {
     "name": "stdout",
     "output_type": "stream",
     "text": [
      "jumangi              | 7\n",
      "resident             | 8\n",
      "RRR                  | 3\n",
      "KGF                  | 3\n",
      "MS Dhoni             | 8\n",
      "Harry potter         | 12\n",
      "Iron Man             | 8\n",
      "Thor                 | 4\n"
     ]
    }
   ],
   "source": [
    "movies=['jumangi','resident','RRR','KGF','MS Dhoni','Harry potter','Iron Man','Thor']\n",
    "\n",
    "for j in movies:\n",
    "    print(f'{j:20} | {len(j)}')"
   ]
  },
  {
   "cell_type": "code",
   "execution_count": 6,
   "metadata": {},
   "outputs": [
    {
     "name": "stdout",
     "output_type": "stream",
     "text": [
      "black\n",
      "black\n",
      "orange\n",
      "pink\n",
      "gold\n"
     ]
    }
   ],
   "source": [
    "colors=['red','blue','green','white','black','violent','orange','pink','silver','gold']\n",
    "\n",
    "for name in colors:\n",
    "    if 'a' in name:\n",
    "        print(name)\n",
    "    if 'e' not in name:\n",
    "        print(name)"
   ]
  },
  {
   "cell_type": "code",
   "execution_count": 7,
   "metadata": {},
   "outputs": [
    {
     "name": "stdout",
     "output_type": "stream",
     "text": [
      "0 1 2 3 4 5 6 7 8 9 "
     ]
    }
   ],
   "source": [
    "# 0 to 9 display\n",
    "for i in range(10):\n",
    "    print(i, end=\" \")"
   ]
  },
  {
   "cell_type": "code",
   "execution_count": 8,
   "metadata": {},
   "outputs": [
    {
     "name": "stdout",
     "output_type": "stream",
     "text": [
      "15 16 17 18 19 20 21 22 23 24 25 26 27 28 29 30 "
     ]
    }
   ],
   "source": [
    "# 15 to 30 iterate\n",
    "for i in range(15,31):\n",
    "    print(i, end=\" \")"
   ]
  },
  {
   "cell_type": "code",
   "execution_count": 9,
   "metadata": {},
   "outputs": [
    {
     "name": "stdout",
     "output_type": "stream",
     "text": [
      "1 6 11 16 21 26 31 36 41 46 51 56 61 66 71 76 81 86 91 96 101 "
     ]
    }
   ],
   "source": [
    "#1 - 100 with increment 5\n",
    "for i in range(1,102,5):\n",
    "    print(i, end=\" \")"
   ]
  },
  {
   "cell_type": "code",
   "execution_count": 10,
   "metadata": {},
   "outputs": [
    {
     "name": "stdout",
     "output_type": "stream",
     "text": [
      "10 9 8 7 6 5 4 3 2 1 "
     ]
    }
   ],
   "source": [
    "# reverse loop\n",
    "for i in range(10,0,-1):\n",
    "    print(i, end=\" \")"
   ]
  },
  {
   "cell_type": "code",
   "execution_count": 12,
   "metadata": {},
   "outputs": [
    {
     "name": "stdout",
     "output_type": "stream",
     "text": [
      "(0, 'jumangi')\n",
      "(1, 'resident')\n",
      "(2, 'RRR')\n",
      "(3, 'KGF')\n",
      "(4, 'MS Dhoni')\n",
      "(5, 'Harry potter')\n",
      "(6, 'Iron Man')\n",
      "(7, 'Thor')\n"
     ]
    }
   ],
   "source": [
    "# enumeration\n",
    "for movie in enumerate(movies):\n",
    "    print(movie)"
   ]
  },
  {
   "cell_type": "code",
   "execution_count": 13,
   "metadata": {},
   "outputs": [
    {
     "name": "stdout",
     "output_type": "stream",
     "text": [
      "0 jumangi\n",
      "1 resident\n",
      "2 RRR\n",
      "3 KGF\n",
      "4 MS Dhoni\n",
      "5 Harry potter\n",
      "6 Iron Man\n",
      "7 Thor\n"
     ]
    }
   ],
   "source": [
    "for i, movie in enumerate(movies):\n",
    "    print(i, movie)"
   ]
  },
  {
   "cell_type": "code",
   "execution_count": 16,
   "metadata": {},
   "outputs": [],
   "source": [
    "x=[2,56,45,67,12]\n",
    "y=[5,4,8,7,6]\n",
    "z=[47,52,65,21,34]"
   ]
  },
  {
   "cell_type": "code",
   "execution_count": 17,
   "metadata": {},
   "outputs": [
    {
     "name": "stdout",
     "output_type": "stream",
     "text": [
      "54 112 118 95 52 "
     ]
    }
   ],
   "source": [
    "# non pythonic\n",
    "for i in range(len(x)):\n",
    "    print(x[i]+y[i]+z[i], end=' ')"
   ]
  },
  {
   "cell_type": "code",
   "execution_count": 18,
   "metadata": {},
   "outputs": [
    {
     "name": "stdout",
     "output_type": "stream",
     "text": [
      "54 112 118 95 52 "
     ]
    }
   ],
   "source": [
    "# pythonic\n",
    "for i,j,k in zip(x,y,z):\n",
    "    print(i+j+k, end=' ')"
   ]
  },
  {
   "cell_type": "code",
   "execution_count": 20,
   "metadata": {},
   "outputs": [
    {
     "name": "stdout",
     "output_type": "stream",
     "text": [
      "total=431\n"
     ]
    }
   ],
   "source": [
    "# for total\n",
    "total=0\n",
    "for i,j,k in zip(x,y,z):\n",
    "    total+= i+j+k\n",
    "print(f'{total=}')"
   ]
  },
  {
   "cell_type": "code",
   "execution_count": 26,
   "metadata": {},
   "outputs": [
    {
     "name": "stdout",
     "output_type": "stream",
     "text": [
      "1 3 5 6 8 6 7 6 2 7 9 None 4 6 8 7 9 6 5 "
     ]
    }
   ],
   "source": [
    "data=[1,3,5,0,6,0,8,0,6,7,6,2,7,9,None,0,0,4,6,0,8,7,9,6,0,5]\n",
    "for i in data:\n",
    "    if i == 0:\n",
    "        continue\n",
    "    print(i, end=' ')"
   ]
  },
  {
   "cell_type": "code",
   "execution_count": 30,
   "metadata": {},
   "outputs": [
    {
     "name": "stdout",
     "output_type": "stream",
     "text": [
      "1 3 5 0 6 0 8 0 6 7 6 2 7 9 \"the end\"\n"
     ]
    }
   ],
   "source": [
    "for i in data:\n",
    "    if i == None:\n",
    "        break\n",
    "    print(i, end=' ')\n",
    "print('\"the end\"')    "
   ]
  },
  {
   "cell_type": "code",
   "execution_count": 28,
   "metadata": {},
   "outputs": [
    {
     "name": "stdout",
     "output_type": "stream",
     "text": [
      "1 3 5 6 8 6 7 6 2 7 9 "
     ]
    }
   ],
   "source": [
    "for i in data:\n",
    "    if i == 0: continue\n",
    "    if i == None: break\n",
    "    print(i, end=' ')"
   ]
  },
  {
   "cell_type": "code",
   "execution_count": 9,
   "metadata": {},
   "outputs": [
    {
     "name": "stdout",
     "output_type": "stream",
     "text": [
      "1 \n",
      "2 2 \n",
      "3 3 3 \n",
      "4 4 4 4 \n",
      "5 5 5 5 5 \n"
     ]
    }
   ],
   "source": [
    "\n",
    "for i in range(0,5):\n",
    "    for j in range(0,i+1):\n",
    "        print(i+1,end=' ')\n",
    "    print()"
   ]
  },
  {
   "cell_type": "code",
   "execution_count": 10,
   "metadata": {},
   "outputs": [
    {
     "name": "stdout",
     "output_type": "stream",
     "text": [
      "5\n",
      "1234\n"
     ]
    }
   ],
   "source": [
    "i=12345\n",
    "print(i%10)\n",
    "print(i//10)"
   ]
  },
  {
   "cell_type": "code",
   "execution_count": 12,
   "metadata": {},
   "outputs": [
    {
     "name": "stdout",
     "output_type": "stream",
     "text": [
      "45\n"
     ]
    }
   ],
   "source": [
    "number=int(input(\"enter number\"))\n",
    "total=0\n",
    "while number>0:\n",
    "    total+=number%10\n",
    "    number=number//10\n",
    "print(total)"
   ]
  },
  {
   "cell_type": "code",
   "execution_count": 13,
   "metadata": {},
   "outputs": [
    {
     "name": "stdout",
     "output_type": "stream",
     "text": [
      "Wrong password👎\n",
      "Wrong password👎\n",
      "welcome👍\n"
     ]
    }
   ],
   "source": [
    "retries=0\n",
    "while retries<3:\n",
    "    pin=input(\"enter password:\")\n",
    "    if pin==\"1234\":\n",
    "        print('welcome👍')\n",
    "        break\n",
    "    else:\n",
    "        print('Wrong password👎')"
   ]
  }
 ],
 "metadata": {
  "kernelspec": {
   "display_name": "base",
   "language": "python",
   "name": "python3"
  },
  "language_info": {
   "codemirror_mode": {
    "name": "ipython",
    "version": 3
   },
   "file_extension": ".py",
   "mimetype": "text/x-python",
   "name": "python",
   "nbconvert_exporter": "python",
   "pygments_lexer": "ipython3",
   "version": "3.10.8"
  },
  "orig_nbformat": 4,
  "vscode": {
   "interpreter": {
    "hash": "4da1da0b9582ab68723c14ece5789b9cae36a61db34137586d7484a63a45bb0a"
   }
  }
 },
 "nbformat": 4,
 "nbformat_minor": 2
}
