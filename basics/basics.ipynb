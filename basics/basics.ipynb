{
 "cells": [
  {
   "cell_type": "code",
   "execution_count": 4,
   "metadata": {},
   "outputs": [],
   "source": [
    "x=10\n"
   ]
  },
  {
   "cell_type": "code",
   "execution_count": 5,
   "metadata": {},
   "outputs": [],
   "source": [
    "x=\"anshu\""
   ]
  },
  {
   "cell_type": "code",
   "execution_count": 6,
   "metadata": {},
   "outputs": [],
   "source": [
    "y=10"
   ]
  },
  {
   "cell_type": "code",
   "execution_count": 7,
   "metadata": {},
   "outputs": [
    {
     "name": "stdout",
     "output_type": "stream",
     "text": [
      "the value of x is shruti\n"
     ]
    },
    {
     "data": {
      "text/plain": [
       "False"
      ]
     },
     "execution_count": 7,
     "metadata": {},
     "output_type": "execute_result"
    }
   ],
   "source": [
    "x=input(\"enter the name:\")\n",
    "print(f'the value of x is {x}')\n",
    "x is str()"
   ]
  },
  {
   "cell_type": "code",
   "execution_count": 8,
   "metadata": {},
   "outputs": [
    {
     "data": {
      "text/plain": [
       "False"
      ]
     },
     "execution_count": 8,
     "metadata": {},
     "output_type": "execute_result"
    }
   ],
   "source": [
    "x is str()"
   ]
  },
  {
   "cell_type": "code",
   "execution_count": 9,
   "metadata": {},
   "outputs": [
    {
     "name": "stdout",
     "output_type": "stream",
     "text": [
      "present\n"
     ]
    }
   ],
   "source": [
    "x=['ayush','ram','shruti']\n",
    "y=input(\"enter a name \")\n",
    "if y in x:\n",
    "    print(\"present\")\n",
    "else:\n",
    "    print(\"absent\")     "
   ]
  },
  {
   "cell_type": "code",
   "execution_count": 10,
   "metadata": {},
   "outputs": [],
   "source": [
    "uname=input(\"Enter your name:\")\n",
    "email=input(\"Enter your email:\")\n",
    "pwd=input(\"enter password:\")\n",
    "pwd2=input(\"Confirm password:\")\n",
    "if len(uname)>=4 and len(uname)<16:\n",
    "    if '@' in email and len(email)>6:\n",
    "        if len(pwd)>=8 and len(pwd)<=20 and pwd != uname:\n",
    "            if pwd==pwd2:\n",
    "                print(\"uname Aceepted\")"
   ]
  },
  {
   "cell_type": "code",
   "execution_count": 13,
   "metadata": {},
   "outputs": [
    {
     "name": "stdout",
     "output_type": "stream",
     "text": [
      "bewakoof chudail ladki\n"
     ]
    }
   ],
   "source": [
    "name=input('enter name')\n",
    "match name:\n",
    "    case \"anshu\":\n",
    "        print(\"so you are anshu\")\n",
    "    case \"ayush\":\n",
    "        print(\"so you are ayush\")\n",
    "    case \"shruti\":\n",
    "        print(\"bewakoof chudail ladki\")\n",
    "    case _:\n",
    "        print(\"Go to hell\")"
   ]
  },
  {
   "attachments": {},
   "cell_type": "markdown",
   "metadata": {},
   "source": [
    "# wap to generate total salary of employee based on their designation\n",
    "  -if designation is manager than the base salary is 50000\n",
    "  -if designation is developer than the base salary is 40000\n",
    "  -if designation is tester than the base salary is 30000\n",
    "  -apply 10% bonus for manager\n",
    "  -apply 20% bonus for developer\n",
    "  -apply 30% bonus for tester \n",
    "  -add hra of 20% base salary \n",
    "\n"
   ]
  },
  {
   "cell_type": "code",
   "execution_count": 16,
   "metadata": {},
   "outputs": [
    {
     "name": "stdout",
     "output_type": "stream",
     "text": [
      "ghanta\n"
     ]
    }
   ],
   "source": [
    "designation=input(\"enter your designation\")\n",
    "match designation:\n",
    "    case \"manager\":\n",
    "        bs=50000\n",
    "        bns=bs*.1 # 10%\n",
    "        hra=bs*.2 # 20%\n",
    "        ts=bs+bns+hra\n",
    "        print(f'total salary: {ts}') \n",
    "    case \"developer\":\n",
    "        bs=40000\n",
    "        bns=bs*.1 # 10%\n",
    "        hra=bs*.2 # 20%\n",
    "        ts=bs+bns+hra\n",
    "        print(f'total salary: {ts}')\n",
    "    case \"tester\":\n",
    "        bs=40000\n",
    "        bns=bs*.1 # 10%\n",
    "        hra=bs*.2 # 20%\n",
    "        ts=bs+bns+hra\n",
    "        print(f'total salary: {ts}')\n",
    "    case _:\n",
    "        print(\"ghanta\")        "
   ]
  }
 ],
 "metadata": {
  "kernelspec": {
   "display_name": "Python 3",
   "language": "python",
   "name": "python3"
  },
  "language_info": {
   "codemirror_mode": {
    "name": "ipython",
    "version": 3
   },
   "file_extension": ".py",
   "mimetype": "text/x-python",
   "name": "python",
   "nbconvert_exporter": "python",
   "pygments_lexer": "ipython3",
   "version": "3.10.2"
  },
  "orig_nbformat": 4,
  "vscode": {
   "interpreter": {
    "hash": "9e9b8f51621d196770c002bf8b29c1583185de3d252f1adfa664771bc5a13532"
   }
  }
 },
 "nbformat": 4,
 "nbformat_minor": 2
}
